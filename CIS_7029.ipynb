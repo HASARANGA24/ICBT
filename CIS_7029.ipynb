{
 "cells": [
  {
   "cell_type": "code",
   "execution_count": null,
   "metadata": {},
   "outputs": [],
   "source": []
  },
  {
   "cell_type": "code",
   "execution_count": null,
   "metadata": {},
   "outputs": [],
   "source": []
  },
  {
   "cell_type": "code",
   "execution_count": 32,
   "metadata": {},
   "outputs": [
    {
     "ename": "OSError",
     "evalue": "[WinError 126] The specified module could not be found. Error loading \"C:\\Users\\Naveen\\AppData\\Local\\Packages\\PythonSoftwareFoundation.Python.3.11_qbz5n2kfra8p0\\LocalCache\\local-packages\\Python311\\site-packages\\torch\\lib\\fbgemm.dll\" or one of its dependencies.",
     "output_type": "error",
     "traceback": [
      "\u001b[1;31m---------------------------------------------------------------------------\u001b[0m",
      "\u001b[1;31mOSError\u001b[0m                                   Traceback (most recent call last)",
      "Cell \u001b[1;32mIn[32], line 1\u001b[0m\n\u001b[1;32m----> 1\u001b[0m \u001b[38;5;28;01mimport\u001b[39;00m \u001b[38;5;21;01mtorch\u001b[39;00m\n\u001b[0;32m      2\u001b[0m \u001b[38;5;28;01mimport\u001b[39;00m \u001b[38;5;21;01mtorch\u001b[39;00m\u001b[38;5;21;01m.\u001b[39;00m\u001b[38;5;21;01mnn\u001b[39;00m\u001b[38;5;21;01m.\u001b[39;00m\u001b[38;5;21;01mfunctional\u001b[39;00m \u001b[38;5;28;01mas\u001b[39;00m \u001b[38;5;21;01mF\u001b[39;00m \n\u001b[0;32m      3\u001b[0m \u001b[38;5;28;01mfrom\u001b[39;00m \u001b[38;5;21;01mtorch_geometric\u001b[39;00m\u001b[38;5;21;01m.\u001b[39;00m\u001b[38;5;21;01mdatasets\u001b[39;00m \u001b[38;5;28;01mimport\u001b[39;00m Planetoid\n",
      "File \u001b[1;32m~\\AppData\\Local\\Packages\\PythonSoftwareFoundation.Python.3.11_qbz5n2kfra8p0\\LocalCache\\local-packages\\Python311\\site-packages\\torch\\__init__.py:148\u001b[0m\n\u001b[0;32m    146\u001b[0m                 err \u001b[38;5;241m=\u001b[39m ctypes\u001b[38;5;241m.\u001b[39mWinError(ctypes\u001b[38;5;241m.\u001b[39mget_last_error())\n\u001b[0;32m    147\u001b[0m                 err\u001b[38;5;241m.\u001b[39mstrerror \u001b[38;5;241m+\u001b[39m\u001b[38;5;241m=\u001b[39m \u001b[38;5;124mf\u001b[39m\u001b[38;5;124m'\u001b[39m\u001b[38;5;124m Error loading \u001b[39m\u001b[38;5;124m\"\u001b[39m\u001b[38;5;132;01m{\u001b[39;00mdll\u001b[38;5;132;01m}\u001b[39;00m\u001b[38;5;124m\"\u001b[39m\u001b[38;5;124m or one of its dependencies.\u001b[39m\u001b[38;5;124m'\u001b[39m\n\u001b[1;32m--> 148\u001b[0m                 \u001b[38;5;28;01mraise\u001b[39;00m err\n\u001b[0;32m    150\u001b[0m     kernel32\u001b[38;5;241m.\u001b[39mSetErrorMode(prev_error_mode)\n\u001b[0;32m    153\u001b[0m \u001b[38;5;28;01mdef\u001b[39;00m \u001b[38;5;21m_preload_cuda_deps\u001b[39m(lib_folder, lib_name):\n",
      "\u001b[1;31mOSError\u001b[0m: [WinError 126] The specified module could not be found. Error loading \"C:\\Users\\Naveen\\AppData\\Local\\Packages\\PythonSoftwareFoundation.Python.3.11_qbz5n2kfra8p0\\LocalCache\\local-packages\\Python311\\site-packages\\torch\\lib\\fbgemm.dll\" or one of its dependencies."
     ]
    }
   ],
   "source": [
    "import torch\n",
    "import torch.nn.functional as F \n",
    "from torch_geometric.datasets import Planetoid\n",
    "from torch_geometric.nn import GCNConv\n",
    "\n",
    "dataset = Planetoid(root= '/tmp/Cora', name='Cora')\n",
    "\n",
    "class GCN(torch.nn.Module):\n",
    "    def __init__(self):\n",
    "        super(GCN, self).__init__\n",
    "        self.conv1 = GCNConv(dataset.num_node_features, 16)\n",
    "        self.conv1 = GCNConv(16, dataset.num_classes)\n",
    "        \n",
    "    def forward(self, data):\n",
    "        x, edge_index = data.x, data.edge_index\n",
    "        x = self.conv1(x, edge_index) \n",
    "        x = F.relu(x)\n",
    "        x = F.dropout(x, training=self.training)\n",
    "        x = self.conv1(x, edge_index)\n",
    "        \n",
    "        return F.log_softmax(x, dim = 1)\n",
    "    \n",
    "    model = GCN()\n",
    "    optimizer = torch.optim.Adam(model.parameter(), lr = 0.01, weight_decay = 5e-4)\n",
    "    data = dataset[0]\n",
    "        \n",
    "    model.train()\n",
    "    for epoch in range(200):\n",
    "        optimizer.zero_grad()\n",
    "        out = model(data)\n",
    "        loss = F.nll_loss(out[data.train_mask], data.y[data.train.mask])\n",
    "        loss.backward()\n",
    "        optimizer.step()\n",
    "        \n",
    "    model.eval()\n",
    "    _, pred = model(data).max(dim = 1)\n",
    "    correct = int(pred[data.test_mask].eq(data.y[data.test_mask]).sum().item())\n",
    "    accuracy = correct / int(data.test_mask.sum())\n",
    "    print(f'Accuracy : {accuracy : .4f}')    \n",
    "        \n",
    "        "
   ]
  },
  {
   "cell_type": "code",
   "execution_count": 33,
   "metadata": {},
   "outputs": [
    {
     "name": "stdout",
     "output_type": "stream",
     "text": [
      "Prediction Score between A and E : 4\n"
     ]
    }
   ],
   "source": [
    "import networkx as nx\n",
    "import random\n",
    "import pandas as pd\n",
    "\n",
    "def link_prediction_common_neighbors(graph, u, v):\n",
    "    \n",
    "    if v in graph[u]:\n",
    "        return float('inf') \n",
    "   \n",
    "    neighbors_u = set(graph[u])\n",
    "    neighbors_v = set(graph[v])\n",
    "\n",
    "    common_neighbors = neighbors_u.intersection(neighbors_v)\n",
    "   \n",
    "    score = len(common_neighbors)\n",
    "    return score\n",
    "\n",
    "graph = {\n",
    "    'A1': ['B', 'C', 'D','A', 'B', 'E'],\n",
    "    'B1': ['A', 'C'],\n",
    "    'C1': ['A', 'B', 'E'],\n",
    "    'D1': ['A'],\n",
    "    'E1': ['C','A', 'B', 'E']\n",
    "}\n",
    "\n",
    "score = link_prediction_common_neighbors(graph, 'A1', 'E1')\n",
    "print(f\"Prediction Score between A and E : {score}\")"
   ]
  },
  {
   "cell_type": "code",
   "execution_count": 34,
   "metadata": {},
   "outputs": [
    {
     "ename": "ModuleNotFoundError",
     "evalue": "No module named 'rand_gen'",
     "output_type": "error",
     "traceback": [
      "\u001b[1;31m---------------------------------------------------------------------------\u001b[0m",
      "\u001b[1;31mModuleNotFoundError\u001b[0m                       Traceback (most recent call last)",
      "Cell \u001b[1;32mIn[34], line 3\u001b[0m\n\u001b[0;32m      1\u001b[0m \u001b[38;5;28;01mimport\u001b[39;00m \u001b[38;5;21;01mnetworkx\u001b[39;00m \u001b[38;5;28;01mas\u001b[39;00m \u001b[38;5;21;01mg_network\u001b[39;00m\n\u001b[0;32m      2\u001b[0m \u001b[38;5;28;01mimport\u001b[39;00m \u001b[38;5;21;01mpandas\u001b[39;00m \u001b[38;5;28;01mas\u001b[39;00m \u001b[38;5;21;01mdata_handler\u001b[39;00m\n\u001b[1;32m----> 3\u001b[0m \u001b[38;5;28;01mimport\u001b[39;00m \u001b[38;5;21;01mrand_gen\u001b[39;00m\n\u001b[0;32m      5\u001b[0m \u001b[38;5;28;01mdef\u001b[39;00m \u001b[38;5;21mcalculate_influence_propagation\u001b[39m(network_graph, initial_influencers, simulation_count\u001b[38;5;241m=\u001b[39m\u001b[38;5;241m10\u001b[39m):\n\u001b[0;32m      6\u001b[0m     \u001b[38;5;28;01mdef\u001b[39;00m \u001b[38;5;21mpropagate_influence\u001b[39m(network_graph, initial_influencers):\n",
      "\u001b[1;31mModuleNotFoundError\u001b[0m: No module named 'rand_gen'"
     ]
    }
   ],
   "source": [
    "import networkx as g_network\n",
    "import pandas as data_handler\n",
    "import rand_gen\n",
    "\n",
    "def calculate_influence_propagation(network_graph, initial_influencers, simulation_count=10):\n",
    "    def propagate_influence(network_graph, initial_influencers):\n",
    "\n",
    "        current_active = set(initial_influencers)\n",
    "        newly_current_active = set(initial_influencers)\n",
    "\n",
    "        while newly_current_active:\n",
    "            next_newly_current_active = set()\n",
    "\n",
    "            for node in newly_current_active:\n",
    "                adjacent_nodes = set(network_graph.adjacent_nodes(node))\n",
    "\n",
    "                for neighbor in adjacent_nodes - current_active:\n",
    "                    if rand_gen.rand_gen() < 0.1:  \n",
    "                        next_newly_current_active.add(neighbor)\n",
    "            current_active.udata_handlerate(next_newly_current_active)\n",
    "            newly_current_active = next_newly_current_active\n",
    "\n",
    "        return len(current_active)\n",
    "\n",
    "    total_spread = 0\n",
    "\n",
    "    for _ in range(simulation_count):\n",
    "        total_spread += propagate_influence(network_graph, initial_influencers)\n",
    "    \n",
    "    return total_spread / simulation_count\n",
    "\n",
    "def influence_maximization(network_graph, k):\n",
    "    initial_influencers = set()\n",
    "\n",
    "    for _ in range(k):\n",
    "\n",
    "        best_node = None\n",
    "        best_spread = 0\n",
    "\n",
    "        for node in network_graph.nodes:\n",
    "\n",
    "            if node not in initial_influencers:\n",
    "\n",
    "                temp_set = initial_influencers | {node}\n",
    "                spread = calculate_influence_propagation(network_graph, temp_set)\n",
    "\n",
    "                if spread > best_spread:\n",
    "\n",
    "                    best_spread = spread\n",
    "                    best_node = node\n",
    "\n",
    "        if best_node is not None:\n",
    "\n",
    "            initial_influencers.add(best_node)\n",
    "\n",
    "    return initial_influencers\n",
    "\n",
    "    df = data_handler.read_csv('../../facebook_clean_data/tvshow_edges.csv')\n",
    "\n",
    "network_graph = g_network.from_pandas_edgelist(df, 'nd_1', 'nd_2')\n",
    "\n",
    "k = 3  \n",
    "\n",
    "selected_nodes = influence_maximization(network_graph, k)\n",
    "print(f\"nodes selected for influence maximization: {selected_nodes}\")"
   ]
  }
 ],
 "metadata": {
  "kernelspec": {
   "display_name": "Python 3",
   "language": "python",
   "name": "python3"
  },
  "language_info": {
   "codemirror_mode": {
    "name": "ipython",
    "version": 3
   },
   "file_extension": ".py",
   "mimetype": "text/x-python",
   "name": "python",
   "nbconvert_exporter": "python",
   "pygments_lexer": "ipython3",
   "version": "3.11.9"
  }
 },
 "nbformat": 4,
 "nbformat_minor": 2
}
